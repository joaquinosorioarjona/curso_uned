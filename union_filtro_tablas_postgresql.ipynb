{
 "cells": [
  {
   "cell_type": "code",
   "execution_count": null,
   "id": "0fb558dc",
   "metadata": {},
   "outputs": [],
   "source": [
    "CREATE TABLE matriz_feria_abril AS\n",
    "SELECT \n",
    "    m.*,        -- Selecciona todos los campos de la tabla matriz\n",
    "    f.fecha_hora,\n",
    "\tf.mes,\n",
    "\tf.dia,\n",
    "\tf.hora,\n",
    "\tf.residencia_provincia,\n",
    "\tf.distancia,\n",
    "\tf.actividad_origen,\n",
    "\tf.actividad_destino,\n",
    "\tf.renta,\n",
    "\tf.edad,\n",
    "\tf.sexo,\n",
    "\tf.viajes,\n",
    "\tf.viajes_km\n",
    "FROM \n",
    "    matriz AS m\n",
    "JOIN \n",
    "    feria_abril_2023 AS f\n",
    "ON \n",
    "    m.flujo = f.flujo\n",
    "WHERE \n",
    "    m.gau_origen = 'GAU Sevilla' AND \n",
    "    m.gau_destino = 'GAU Sevilla';"
   ]
  }
 ],
 "metadata": {
  "kernelspec": {
   "display_name": "Python 3 (ipykernel)",
   "language": "python",
   "name": "python3"
  },
  "language_info": {
   "codemirror_mode": {
    "name": "ipython",
    "version": 3
   },
   "file_extension": ".py",
   "mimetype": "text/x-python",
   "name": "python",
   "nbconvert_exporter": "python",
   "pygments_lexer": "ipython3",
   "version": "3.11.5"
  }
 },
 "nbformat": 4,
 "nbformat_minor": 5
}
